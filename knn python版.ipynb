{
 "cells": [
  {
   "cell_type": "code",
   "execution_count": 112,
   "metadata": {},
   "outputs": [],
   "source": [
    "# read table from database\n",
    "import pandas as pd\n",
    "import pymysql\n",
    "connection = pymysql.connect(host='162.105.146.37',\n",
    "                             port=43306,\n",
    "                             user='stu2000013150',\n",
    "                             password='stu2000013150',\n",
    "                             database='stu2000013150')\n",
    "cursor = connection.cursor()\n",
    "\n",
    "def read_table(cursor, sql):\n",
    "    try:\n",
    "        cursor.execute(sql)\n",
    "        data = cursor.fetchall()\n",
    "        frame = pd.DataFrame(data)\n",
    "    except:\n",
    "        frame = pd.DataFrame()\n",
    "    return frame\n",
    "\n",
    "train_data = read_table(cursor, \"select * from train_knn\")\n",
    "test_data = read_table(cursor, \"select * from test_knn\")\n",
    "connection.commit()\n",
    "cursor.close()\n",
    "connection.close()\n",
    "column = ['id','sample_number','thickness','cell_size','cell_shape','marginal_adhesion','single_epithelial_cell_size','bare_nuclei','bland_chromatin','normal_nucleoli','mitoses','class']\n",
    "train_data.columns = column\n",
    "test_data.columns = column"
   ]
  },
  {
   "cell_type": "code",
   "execution_count": 115,
   "metadata": {},
   "outputs": [],
   "source": [
    "X_train = train_data.drop(['id', 'class', 'sample_number'], axis=1)\n",
    "X_train = pd.concat([X_train, pd.get_dummies(X_train['cell_shape'], prefix='cell_shape')], axis=1).drop('cell_shape', axis=1).astype(float)\n",
    "y_train = train_data['class']\n",
    "X_test = test_data.drop(['id', 'class', 'sample_number'], axis=1)\n",
    "X_test = pd.concat([X_test, pd.get_dummies(X_test['cell_shape'], prefix='cell_shape')], axis=1).drop('cell_shape', axis=1).astype(float)\n",
    "y_test = test_data['class']"
   ]
  },
  {
   "cell_type": "code",
   "execution_count": 124,
   "metadata": {},
   "outputs": [
    {
     "name": "stdout",
     "output_type": "stream",
     "text": [
      "k = 1, accuracy = 0.958904109589041\n",
      "k = 2, accuracy = 0.9360730593607306\n",
      "k = 3, accuracy = 0.9634703196347032\n",
      "k = 4, accuracy = 0.9497716894977168\n",
      "k = 5, accuracy = 0.958904109589041\n",
      "k = 6, accuracy = 0.9497716894977168\n",
      "k = 7, accuracy = 0.954337899543379\n",
      "k = 8, accuracy = 0.9497716894977168\n",
      "k = 9, accuracy = 0.9497716894977168\n",
      "k = 10, accuracy = 0.9497716894977168\n",
      "k = 11, accuracy = 0.9497716894977168\n",
      "k = 12, accuracy = 0.9497716894977168\n",
      "k = 13, accuracy = 0.9497716894977168\n",
      "k = 14, accuracy = 0.9497716894977168\n",
      "k = 15, accuracy = 0.9452054794520548\n",
      "k = 16, accuracy = 0.9452054794520548\n",
      "k = 17, accuracy = 0.954337899543379\n",
      "k = 18, accuracy = 0.9497716894977168\n",
      "k = 19, accuracy = 0.958904109589041\n",
      "k = 20, accuracy = 0.9634703196347032\n",
      "k = 21, accuracy = 0.958904109589041\n",
      "k = 22, accuracy = 0.954337899543379\n",
      "k = 23, accuracy = 0.9406392694063926\n",
      "k = 24, accuracy = 0.9452054794520548\n",
      "k = 25, accuracy = 0.9452054794520548\n",
      "k = 26, accuracy = 0.954337899543379\n",
      "k = 27, accuracy = 0.954337899543379\n",
      "k = 28, accuracy = 0.958904109589041\n",
      "k = 29, accuracy = 0.954337899543379\n",
      "k = 30, accuracy = 0.958904109589041\n",
      "k = 31, accuracy = 0.954337899543379\n",
      "k = 32, accuracy = 0.954337899543379\n",
      "k = 33, accuracy = 0.9497716894977168\n",
      "k = 34, accuracy = 0.9497716894977168\n",
      "k = 35, accuracy = 0.9497716894977168\n",
      "k = 36, accuracy = 0.9497716894977168\n",
      "k = 37, accuracy = 0.9497716894977168\n",
      "k = 38, accuracy = 0.9497716894977168\n",
      "k = 39, accuracy = 0.9452054794520548\n",
      "k = 40, accuracy = 0.9452054794520548\n",
      "k = 41, accuracy = 0.9497716894977168\n",
      "k = 42, accuracy = 0.9497716894977168\n",
      "k = 43, accuracy = 0.954337899543379\n",
      "k = 44, accuracy = 0.9497716894977168\n",
      "k = 45, accuracy = 0.954337899543379\n",
      "k = 46, accuracy = 0.954337899543379\n",
      "k = 47, accuracy = 0.954337899543379\n",
      "k = 48, accuracy = 0.9497716894977168\n",
      "k = 49, accuracy = 0.9497716894977168\n",
      "k = 50, accuracy = 0.9497716894977168\n",
      "max accuracy =  0.9634703196347032\n"
     ]
    }
   ],
   "source": [
    "from sklearn.neighbors import KNeighborsClassifier\n",
    "maxx = 0\n",
    "for k in range(1, 51):\n",
    "    knn = KNeighborsClassifier(n_neighbors=k, weights='uniform')\n",
    "    knn.fit(X_train, y_train)\n",
    "    print(f\"k = {k}, accuracy = {knn.score(X_test, y_test)}\")\n",
    "    maxx = max(maxx, knn.score(X_test, y_test))\n",
    "print(\"max accuracy = \", maxx)"
   ]
  },
  {
   "cell_type": "code",
   "execution_count": null,
   "metadata": {},
   "outputs": [],
   "source": []
  }
 ],
 "metadata": {
  "kernelspec": {
   "display_name": "base",
   "language": "python",
   "name": "python3"
  },
  "language_info": {
   "codemirror_mode": {
    "name": "ipython",
    "version": 3
   },
   "file_extension": ".py",
   "mimetype": "text/x-python",
   "name": "python",
   "nbconvert_exporter": "python",
   "pygments_lexer": "ipython3",
   "version": "3.9.12"
  },
  "orig_nbformat": 4
 },
 "nbformat": 4,
 "nbformat_minor": 2
}
